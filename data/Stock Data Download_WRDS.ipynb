{
 "cells": [
  {
   "cell_type": "code",
   "execution_count": null,
   "id": "b584d297",
   "metadata": {},
   "outputs": [],
   "source": [
    "import wrds\n",
    "import pandas as pd"
   ]
  },
  {
   "cell_type": "code",
   "execution_count": null,
   "id": "345a9ff9",
   "metadata": {},
   "outputs": [],
   "source": [
    "# Step 1: Load your S&P 500 tickers\n",
    "sp500_df = pd.read_csv('sp500_cik.csv')\n",
    "tickers = sp500_df['Symbol'].dropna().unique().tolist()\n",
    "\n",
    "# Step 2: Connect to WRDS\n",
    "db = wrds.Connection()\n",
    "\n",
    "# Step 3: Define your date range\n",
    "start_date = '2000-01-01'\n",
    "end_date = '2025-01-01'\n",
    "\n",
    "# Step 4: Convert tickers to upper case (CRSP format)\n",
    "tickers = [t.upper() for t in tickers]\n",
    "\n",
    "# Step 5: Create query to pull daily prices, shrout, and market cap\n",
    "tickers_str = \",\".join(f\"'{t}'\" for t in tickers)\n",
    "\n",
    "query = f\"\"\"\n",
    "SELECT\n",
    "    dsf.date,\n",
    "    msf.ticker,\n",
    "    msf.comnam,\n",
    "    dsf.openprc AS open,\n",
    "    dsf.askhi AS high,\n",
    "    dsf.bidlo AS low,\n",
    "    dsf.prc AS close,\n",
    "    dsf.vol AS volume,\n",
    "    ABS(dsf.prc) * dsf.shrout * 1000 AS market_cap\n",
    "FROM crsp.dsf dsf\n",
    "JOIN crsp.msenames msf ON dsf.permno = msf.permno\n",
    "    AND dsf.date BETWEEN msf.namedt AND msf.nameendt\n",
    "WHERE msf.ticker IN ({tickers_str})\n",
    "    AND dsf.date BETWEEN '{start_date}' AND '{end_date}'\n",
    "ORDER BY dsf.date, msf.ticker\n",
    "\"\"\"\n",
    "\n",
    "# Step 6: Run the query and fetch results\n",
    "sp500_data = db.raw_sql(query)\n",
    "\n",
    "# Step 7: Optional - sort and clean\n",
    "sp500_data = sp500_data.sort_values(by=['ticker', 'date'])\n",
    "\n",
    "# Step 8: Save to CSV\n",
    "sp500_data.to_csv('sp500_data.csv', index=False)\n",
    "\n",
    "# Step 9: Close WRDS connection\n",
    "db.close()"
   ]
  }
 ],
 "metadata": {
  "kernelspec": {
   "display_name": "base",
   "language": "python",
   "name": "python3"
  },
  "language_info": {
   "codemirror_mode": {
    "name": "ipython",
    "version": 3
   },
   "file_extension": ".py",
   "mimetype": "text/x-python",
   "name": "python",
   "nbconvert_exporter": "python",
   "pygments_lexer": "ipython3",
   "version": "3.11.5"
  }
 },
 "nbformat": 4,
 "nbformat_minor": 5
}
